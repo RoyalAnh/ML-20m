{
  "nbformat": 4,
  "nbformat_minor": 0,
  "metadata": {
    "colab": {
      "provenance": [],
      "toc_visible": true,
      "authorship_tag": "ABX9TyMQoV9FZZ8FHwJ7BgcfOUvU",
      "include_colab_link": true
    },
    "kernelspec": {
      "name": "python3",
      "display_name": "Python 3"
    },
    "language_info": {
      "name": "python"
    }
  },
  "cells": [
    {
      "cell_type": "markdown",
      "metadata": {
        "id": "view-in-github",
        "colab_type": "text"
      },
      "source": [
        "<a href=\"https://colab.research.google.com/github/RoyalAnh/ML-20m/blob/main/Ml_20m.ipynb\" target=\"_parent\"><img src=\"https://colab.research.google.com/assets/colab-badge.svg\" alt=\"Open In Colab\"/></a>"
      ]
    },
    {
      "cell_type": "markdown",
      "source": [
        "Mount Google Drive"
      ],
      "metadata": {
        "id": "-i83gr1c7qGp"
      }
    },
    {
      "cell_type": "code",
      "execution_count": 20,
      "metadata": {
        "colab": {
          "base_uri": "https://localhost:8080/"
        },
        "id": "24yI3ygwjxVa",
        "outputId": "d3186893-9c7e-40cb-bfa6-9eaa997ea1ce"
      },
      "outputs": [
        {
          "output_type": "stream",
          "name": "stdout",
          "text": [
            "Drive already mounted at /content/drive; to attempt to forcibly remount, call drive.mount(\"/content/drive\", force_remount=True).\n"
          ]
        }
      ],
      "source": [
        "from google.colab import drive\n",
        "drive.mount('/content/drive')\n",
        "\n",
        "import pandas as pd"
      ]
    },
    {
      "cell_type": "code",
      "source": [
        "# Đường dẫn tới các file CSV\n",
        "genome_scores_path = '/content/drive/MyDrive/ml-20m/genome-scores.csv'\n",
        "genome_tags_path = '/content/drive/MyDrive/ml-20m/genome-tags.csv'\n",
        "links_path = '/content/drive/MyDrive/ml-20m/links.csv'\n",
        "movies_path = '/content/drive/MyDrive/ml-20m/movies.csv'\n",
        "ratings_path = '/content/drive/MyDrive/ml-20m/ratings.csv'\n",
        "tags_path = '/content/drive/MyDrive/ml-20m/tags.csv'"
      ],
      "metadata": {
        "id": "0m4ozPBm69Un"
      },
      "execution_count": 21,
      "outputs": []
    },
    {
      "cell_type": "code",
      "source": [
        "# Load dữ liệu từ các file CSV\n",
        "genome_scores = pd.read_csv(genome_scores_path)\n",
        "genome_tags = pd.read_csv(genome_tags_path)\n",
        "links = pd.read_csv(links_path)\n",
        "movies = pd.read_csv(movies_path)\n",
        "ratings = pd.read_csv(ratings_path)\n",
        "tags = pd.read_csv(tags_path)"
      ],
      "metadata": {
        "id": "aen7eF-i8xFJ"
      },
      "execution_count": 22,
      "outputs": []
    },
    {
      "cell_type": "code",
      "source": [
        "def calculate_sparsity(num_ratings, num_users, num_movies):\n",
        "\n",
        "    return 1 - (num_ratings / (num_users * num_movies))\n",
        "\n",
        "def preprocess_data(ratings, genome_scores, genome_tags):\n",
        "\n",
        "    # Lọc bộ phim có Genome tag\n",
        "    movies_with_genome_tags = genome_scores['movieId'].unique()\n",
        "    movies_filtered = movies[movies['movieId'].isin(movies_with_genome_tags)]\n",
        "\n",
        "    # Lọc người dùng và bộ phim có trên 20 đánh giá\n",
        "    ratings_filtered = ratings[ratings['movieId'].isin(movies_filtered['movieId'])]\n",
        "    movie_ratings_count = ratings_filtered.groupby('movieId').size()\n",
        "    user_ratings_count = ratings_filtered.groupby('userId').size()\n",
        "\n",
        "    movies_filtered = movie_ratings_count[movie_ratings_count > 20].index\n",
        "    users_filtered = user_ratings_count[user_ratings_count > 20].index\n",
        "\n",
        "    ratings_filtered = ratings_filtered[ratings_filtered['movieId'].isin(movies_filtered) & ratings_filtered['userId'].isin(users_filtered)]\n",
        "    processed_movies = movies[movies['movieId'].isin(movies_filtered)]\n",
        "    processed_users = ratings_filtered[['userId']].drop_duplicates()\n",
        "\n",
        "    return ratings_filtered, processed_movies, processed_users"
      ],
      "metadata": {
        "id": "t-i18cim9DKM"
      },
      "execution_count": 23,
      "outputs": []
    },
    {
      "cell_type": "code",
      "source": [
        "# 1. Tính số lượng đánh giá, số người dùng, số sản phẩm từ dữ liệu gốc\n",
        "num_ratings = len(ratings)\n",
        "num_users = ratings['userId'].nunique()\n",
        "num_movies = ratings['movieId'].nunique()\n",
        "\n",
        "# In số liệu từ dữ liệu gốc\n",
        "print(f\"Số lượng đánh giá trong dữ liệu gốc: {num_ratings}\")\n",
        "print(f\"Số lượng người dùng trong dữ liệu gốc: {num_users}\")\n",
        "print(f\"Số lượng sản phẩm trong dữ liệu gốc: {num_movies}\")\n",
        "\n",
        "# Tính độ thưa cho dữ liệu gốc\n",
        "sparsity_original = calculate_sparsity(num_ratings, num_users, num_movies)\n",
        "print(f\"Độ thưa dữ liệu gốc: {sparsity_original:.4f}\")\n",
        "\n",
        "# 2. Tiền xử lý dữ liệu\n",
        "processed_ratings, processed_movies, processed_users = preprocess_data(ratings, genome_scores, genome_tags)\n",
        "\n",
        "# 3. Tính số lượng đánh giá, số người dùng, số sản phẩm từ dữ liệu sau tiền xử lý\n",
        "num_ratings_processed = len(processed_ratings)\n",
        "num_users_processed = processed_users['userId'].nunique()\n",
        "num_movies_processed = processed_movies['movieId'].nunique()\n",
        "\n",
        "# In số liệu từ dữ liệu sau tiền xử lý\n",
        "print(f\"Số lượng đánh giá trong dữ liệu sau tiền xử lý: {num_ratings_processed}\")\n",
        "print(f\"Số lượng người dùng trong dữ liệu sau tiền xử lý: {num_users_processed}\")\n",
        "print(f\"Số lượng sản phẩm trong dữ liệu sau tiền xử lý: {num_movies_processed}\")\n",
        "\n",
        "# Tính độ thưa cho dữ liệu sau tiền xử lý\n",
        "sparsity_after_preprocessing = calculate_sparsity(num_ratings_processed, num_users_processed, num_movies_processed)\n",
        "print(f\"Độ thưa dữ liệu sau tiền xử lý: {sparsity_after_preprocessing:.4f}\")"
      ],
      "metadata": {
        "colab": {
          "base_uri": "https://localhost:8080/"
        },
        "id": "tz7cheii9G_n",
        "outputId": "3c4b6300-c9d0-49bb-b79c-c9f0fcca6798"
      },
      "execution_count": 24,
      "outputs": [
        {
          "output_type": "stream",
          "name": "stdout",
          "text": [
            "Số lượng đánh giá trong dữ liệu gốc: 20000263\n",
            "Số lượng người dùng trong dữ liệu gốc: 138493\n",
            "Số lượng sản phẩm trong dữ liệu gốc: 26744\n",
            "Độ thưa dữ liệu gốc: 0.9946\n",
            "Số lượng đánh giá trong dữ liệu sau tiền xử lý: 19704863\n",
            "Số lượng người dùng trong dữ liệu sau tiền xử lý: 133769\n",
            "Số lượng sản phẩm trong dữ liệu sau tiền xử lý: 10231\n",
            "Độ thưa dữ liệu sau tiền xử lý: 0.9856\n"
          ]
        }
      ]
    },
    {
      "cell_type": "code",
      "source": [],
      "metadata": {
        "id": "UmB2UV9t3hG8"
      },
      "execution_count": 24,
      "outputs": []
    }
  ]
}